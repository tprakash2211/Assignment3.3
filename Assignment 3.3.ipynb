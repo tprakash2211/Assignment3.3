{
 "cells": [
  {
   "cell_type": "code",
   "execution_count": 28,
   "metadata": {},
   "outputs": [
    {
     "name": "stdout",
     "output_type": "stream",
     "text": [
      "Prakash\n"
     ]
    }
   ],
   "source": [
    "#Assignment 3.3: Implement a function longestWord() that takes a list of words and returns the longest one.\n",
    "[\"Good\", \"Morning\", \"I\",\"am\",\"Prakash\"]\n",
    "\n",
    "#Solution 1:\n",
    "def longestword(list):\n",
    "    word_len = []\n",
    "    for n in list:\n",
    "        word_len.append((len(n), n))\n",
    "    word_len.sort()\n",
    "    return word_len\n",
    "\n",
    "print(find_longestword([\"Good\", \"Morning\", \"I\",\"am\",\"Prakash\"]))"
   ]
  },
  {
   "cell_type": "code",
   "execution_count": 30,
   "metadata": {},
   "outputs": [
    {
     "name": "stdout",
     "output_type": "stream",
     "text": [
      "Prakashh\n"
     ]
    }
   ],
   "source": [
    "#Solution 2:\n",
    "def longestWord(list):\n",
    "    length=0\n",
    "    word_len=\"\"\n",
    "    for wl in list:\n",
    "        if len(wl) >=length:\n",
    "            length = len(wl)\n",
    "            word_len = wl\n",
    "    return word_len\n",
    "\n",
    "print (longestWord([\"Good\", \"Morning\", \"I\",\"am\",\"Prakashh\"]))"
   ]
  }
 ],
 "metadata": {
  "kernelspec": {
   "display_name": "Python 3",
   "language": "python",
   "name": "python3"
  },
  "language_info": {
   "codemirror_mode": {
    "name": "ipython",
    "version": 3
   },
   "file_extension": ".py",
   "mimetype": "text/x-python",
   "name": "python",
   "nbconvert_exporter": "python",
   "pygments_lexer": "ipython3",
   "version": "3.6.3"
  }
 },
 "nbformat": 4,
 "nbformat_minor": 2
}
